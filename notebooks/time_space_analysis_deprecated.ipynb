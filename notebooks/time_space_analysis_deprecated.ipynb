{
 "cells": [
  {
   "cell_type": "code",
   "execution_count": 4,
   "source": [
    "import os\n",
    "os.chdir('..')\n",
    "import h5py\n",
    "import numpy as np\n",
    "import cartopy.crs as ccrs\n",
    "from notebooks import config\n",
    "import numpy as np\n",
    "from utils.imgShow import imgShow\n",
    "import matplotlib.pyplot as plt\n",
    "from utils.geotif_io import readTiff\n",
    "from utils.transform_xy import coor2coor\n",
    "from utils.make_grid import make_grid\n",
    "from utils.mad_std import mad_std\n",
    "from utils_main.helper import spatial_filter\n",
    "from utils.tiffread import tiffread\n",
    "from utils.binning import binning_1d\n",
    "from scipy.ndimage.filters import generic_filter\n",
    "from utils.interpkrig import interpkrig\n",
    "from utils.interpmed import interpmed\n",
    "from utils.interpgaus import interpgaus\n"
   ],
   "outputs": [],
   "metadata": {}
  },
  {
   "cell_type": "code",
   "execution_count": 30,
   "source": [
    "# !h5ls data/icesat2/land_ice_antarctic/download_pineisland/processed_ATL03_20191228014404_00200612_004_01.h5\n"
   ],
   "outputs": [],
   "metadata": {}
  },
  {
   "cell_type": "code",
   "execution_count": null,
   "source": [
    "# !python utils/split_atl06.py data/icesat2/land_ice_antarctic/download_pineisland/*ATL06*.h5 -o data/icesat2/land_ice_antarctic/preprocessed -n 4\n"
   ],
   "outputs": [],
   "metadata": {}
  },
  {
   "cell_type": "code",
   "execution_count": null,
   "source": [
    "#### Data preparation\n",
    "# !python utils/readatl06.py data/icesat2/land_ice_antarctic/download_pineisland//*ATL06*.h5 -o data/icesat2/land_ice_antarctic/preprocessed -n 4\n",
    "# !python utils/merge_files.py data/icesat2/land_ice_antarctic/preprocessed/*ATL06*_A*.h5 -o data/icesat2/land_ice_antarctic/preprocessed/pineisland_atl06_A_merge.h5\n",
    "# !python utils/merge_files.py data/icesat2/land_ice_antarctic/preprocessed/*ATL06*_D*.h5 -o data/icesat2/land_ice_antarctic/preprocessed/pineisland_atl06_D_merge.h5\n"
   ],
   "outputs": [],
   "metadata": {
    "tags": []
   }
  },
  {
   "cell_type": "code",
   "execution_count": null,
   "source": [
    "path_img = config.root + '/data/rs_img/pine_island_S3A_20180207T115228_20180207T115528.tif'\n",
    "path_atl06_A_merge = config.root + '/data/icesat2/land_ice_antarctic/preprocessed/pineisland_atl06_A_merge.h5'\n",
    "path_atl06_D_merge = config.root + '/data/icesat2/land_ice_antarctic/preprocessed/pineisland_atl06_D_merge.h5'\n",
    "\n"
   ],
   "outputs": [],
   "metadata": {}
  },
  {
   "cell_type": "code",
   "execution_count": null,
   "source": [
    "s3_img, s3_img_info = readTiff(path_img)\n",
    "print(s3_img_info)\n"
   ],
   "outputs": [],
   "metadata": {}
  },
  {
   "cell_type": "code",
   "execution_count": null,
   "source": [
    "with h5py.File(path_atl06_D_merge,'r') as f_a:\n",
    "    lat_mergeD   = f_a['lat'][:]\n",
    "    lon_mergeD   = f_a['lon'][:]\n",
    "    h_elv = f_a['h_elv'][:]\n",
    "    t_yrs_mergeD = f_a['t_year'][:]\n",
    "\n",
    "lon_mergeD_proj, lat_mergeD_proj = coor2coor(srs_from=4326, srs_to=s3_img_info['geosrs'], x=lon_mergeD, y=lat_mergeD)\n",
    "\n"
   ],
   "outputs": [],
   "metadata": {}
  },
  {
   "cell_type": "code",
   "execution_count": null,
   "source": [
    "fig = plt.figure(figsize=(9,9))\n",
    "ax = plt.axes(projection=ccrs.SouthPolarStereo())\n",
    "ax.set_extent([-180, 180, -90, -66], crs=ccrs.PlateCarree())\n",
    "plt.scatter(lon_mergeD[::100], lat_mergeD[::100], s=3, c=h_elv[::100], alpha=.7, transform=ccrs.PlateCarree(), cmap='terrain')\n",
    "plt.colorbar(fraction=0.0320, pad=0.02, label='Elevation (m)')\n",
    "ax.coastlines('50m')\n",
    "\n"
   ],
   "outputs": [],
   "metadata": {}
  },
  {
   "cell_type": "code",
   "execution_count": null,
   "source": [
    "fig = plt.figure(figsize=(9,10))\n",
    "ax = plt.axes(projection=ccrs.SouthPolarStereo())\n",
    "imgShow(s3_img, extent=s3_img_info['geoextent'], color_bands=(0, 1, 2), clip_percent=5)\n",
    "plt.scatter(lon_mergeD_proj[::100], lat_mergeD_proj[::100], s=3, c=h_elv[::100], alpha=.7, cmap='terrain')\n",
    "plt.clim([100,1400])\n",
    "plt.colorbar(fraction=0.0320, pad=0.02, label='Elevation (m)')\n",
    "ax.coastlines('50m')\n"
   ],
   "outputs": [],
   "metadata": {}
  },
  {
   "cell_type": "code",
   "execution_count": null,
   "source": [
    "print(f'Min. height:{int(h_elv.min())} m, Max. height: {int(h_elv.max())} m')\n"
   ],
   "outputs": [],
   "metadata": {}
  },
  {
   "cell_type": "code",
   "execution_count": null,
   "source": [
    "cm = plt.cm.get_cmap('terrain')\n",
    "Y, X = np.histogram(h_elv, 70)\n",
    "x_span = h_elv.max()-h_elv.min()\n",
    "C = [cm(((x-X.min())/x_span)) for x in X]\n",
    "plt.bar(X[:-1], Y, color=C, width=X[1]-X[0], edgecolor='k')\n",
    "plt.ylabel('Frequency')\n",
    "plt.xlabel('Elevation (m)')\n"
   ],
   "outputs": [],
   "metadata": {}
  },
  {
   "cell_type": "code",
   "execution_count": null,
   "source": [
    "# !python utils/fittopo.py -h\n"
   ],
   "outputs": [],
   "metadata": {}
  },
  {
   "cell_type": "code",
   "execution_count": null,
   "source": [
    "# !python utils/fittopo_.py data/icesat2/land_ice_antarctic/preprocessed/pineisland_atl06_A_merge.h5 -d 1 1 -r 1.0 -i 5 -z 10 -m 100 -k 2 -j 3031 -v lon lat h_elv t_year -s 10 -p\n",
    "# !python utils/fittopo_.py data/icesat2/land_ice_antarctic/preprocessed/pineisland_atl06_D_merge.h5 -d 1 1 -r 1.0 -i 5 -z 10 -m 100 -k 2 -j 3031 -v lon lat h_elv t_year -s 10 -p\n"
   ],
   "outputs": [],
   "metadata": {
    "tags": []
   }
  },
  {
   "cell_type": "code",
   "execution_count": null,
   "source": [
    "# !h5ls data/icesat2/land_ice_antarctic/preprocessed/pineisland_atl06_A_merge_topo.h5\n"
   ],
   "outputs": [],
   "metadata": {}
  },
  {
   "cell_type": "code",
   "execution_count": null,
   "source": [
    "# !python utils/merge_files.py data/icesat2/land_ice_antarctic/preprocessed/pineisland_atl06_*_topo.h5 -o data/icesat2/land_ice_antarctic/preprocessed/pineisland_atl06_topo_AD.h5\n"
   ],
   "outputs": [],
   "metadata": {}
  },
  {
   "cell_type": "code",
   "execution_count": null,
   "source": [
    "# !h5ls data/icesat2/land_ice_antarctic/preprocessed/pineisland_atl06_topo_AD.h5\n"
   ],
   "outputs": [],
   "metadata": {}
  },
  {
   "cell_type": "code",
   "execution_count": null,
   "source": [
    "with h5py.File('data/icesat2/land_ice_antarctic/preprocessed/pineisland_atl06_topo_AD.h5','r') as f_r:\n",
    "    lat_topo = f_r['lat'][:]\n",
    "    lon_topo = f_r['lon'][:]\n",
    "    t_topo = f_r['t_year'][:]\n",
    "    h_topo_res = f_r['h_res'][:]\n",
    "    h_topo_fit = f_r['h_fit'][:]\n",
    "    h_topo_org = f_r['h_org'][:]\n",
    "\n",
    "lon_topo_proj, lat_topo_proj = coor2coor('4326', '3031', lon_topo, lat_topo)\n"
   ],
   "outputs": [],
   "metadata": {}
  },
  {
   "cell_type": "code",
   "execution_count": null,
   "source": [
    "## ------ before/after spatial-temporal smooth\n",
    "fig = plt.figure(figsize=(9,10))\n",
    "ax = plt.axes(projection=ccrs.SouthPolarStereo())\n",
    "imgShow(s3_img, extent=s3_img_info['geoextent'], color_bands=(0, 1, 2), clip_percent=5)\n",
    "# plt.scatter(lon_mergeD_proj[::100], lat_mergeD_proj[::100], s=3, c=h_elv[::100], alpha=.7, cmap='terrain')\n",
    "plt.scatter(lon_topo_proj[::100], lat_topo_proj[::100], s=3, c=h_topo_org[::100]-h_topo_res[::100], alpha=.7, cmap='terrain')\n",
    "plt.clim([100,1400])\n",
    "plt.colorbar(fraction=0.0320, pad=0.02, label='Elevation (m)')\n",
    "ax.coastlines('50m')\n",
    "\n"
   ],
   "outputs": [],
   "metadata": {}
  },
  {
   "cell_type": "code",
   "execution_count": null,
   "source": [
    "## ------ height residual after spatial-temporal smooth\n",
    "fig = plt.figure(figsize=(12,10))\n",
    "ax = plt.axes(projection=ccrs.SouthPolarStereo())\n",
    "imgShow(s3_img, extent=s3_img_info['geoextent'], color_bands=(0, 1, 2), clip_percent=5)\n",
    "plt.scatter(lon_topo_proj[::100], lat_topo_proj[::100], s=3, \\\n",
    "                                c=h_topo_res[::100], alpha=.7, cmap='coolwarm_r')\n",
    "plt.clim([-5,5])\n",
    "plt.colorbar(fraction=0.0320, pad=0.02, label='Elevation residual (m)')\n",
    "ax.coastlines('50m')\n"
   ],
   "outputs": [],
   "metadata": {}
  },
  {
   "cell_type": "code",
   "execution_count": null,
   "source": [
    "h_topo_res[np.abs(h_topo_res) > 10] = np.nan \n",
    "fig = plt.hist(h_topo_res[~np.isnan(h_topo_res)], 100, edgecolor='k')\n",
    "plt.xlabel('Residuals (m)')\n",
    "print('Mean:', np.around(100*np.nanmean(h_topo_res),3), 'cm')\n",
    "print('Std.dev:',np.around(100*np.nanstd(h_topo_res),3), 'cm')\n",
    "print('Rejected:', np.around(100*(float(len(h_topo_res[np.isnan(h_topo_res)]))/len(h_topo_res)),2), '%')\n"
   ],
   "outputs": [],
   "metadata": {}
  },
  {
   "cell_type": "markdown",
   "source": [
    "## Spatio-temporal interpolation\n",
    "Ok we now have tons of data here! Remember ICESat-2 ATL06 product has an along-track sampling of 20 m, so we need to reduce this data into workable format for further analysis. One way of doing this is to interpolate the data to a regular grid with a specific resolution. In our tutorial we are going to do this in both space and time to create monthly time series in the form of a data cube. A simple program for this purpose is interpgaus3d.py available in captoolkit (there is many more that work both in 2d and 3d). This is a simple 3D (or you might want to call it 4D) interpolator using a gaussian kernel in both space and time to compute a value at each grid node.\n",
    "\n",
    "Later in the tutorial we are going to discuss different interpolation techniques in more detail\n",
    "\n",
    "Let have a look at the program and its input!"
   ],
   "metadata": {}
  },
  {
   "cell_type": "code",
   "execution_count": null,
   "source": [
    "# !python utils/interpgaus3d_.py -h\n"
   ],
   "outputs": [],
   "metadata": {}
  },
  {
   "cell_type": "code",
   "execution_count": null,
   "source": [
    "!python utils/interpgaus3d_.py data/icesat2/land_ice_antarctic/preprocessed/pineisland_atl06_topo_AD.h5 data/icesat2/land_ice_antarctic/preprocessed/pineisland_data_cube.h5 -d 2 2 -t 2018.9 2020.4 0.25 \\\n",
    "-r 30 -a 10 0.25 -p 3031 -c 100 3 10 -v lon lat h_res t_year dummy -s 100\n",
    "\n"
   ],
   "outputs": [],
   "metadata": {}
  },
  {
   "cell_type": "code",
   "execution_count": null,
   "source": [
    "# !h5ls data/icesat2/land_ice_antarctic/preprocessed/pineisland_data_cube.h5\n"
   ],
   "outputs": [],
   "metadata": {}
  },
  {
   "cell_type": "markdown",
   "source": [
    "## Before Spatio-temporal interpolation (mergeAD, linear fitting by fittopo.py)"
   ],
   "metadata": {}
  },
  {
   "cell_type": "code",
   "execution_count": null,
   "source": [
    "z_topo_filter = spatial_filter(lon_topo_proj, lat_topo_proj, h_topo_res, dx=100e3, dy=100e3, sigma=3)\n"
   ],
   "outputs": [],
   "metadata": {}
  },
  {
   "cell_type": "code",
   "execution_count": null,
   "source": [
    "print('Mean:', np.around(100*np.nanmean(z_topo_filter),3), 'cm/yr')\n",
    "print('Std.dev:', np.around(100*np.nanstd(z_topo_filter),3), 'cm/yr')\n",
    "print('Rejected:', np.around(100*(float(len(z_topo_filter[np.isnan(z_topo_filter)]))/len(z_topo_filter)),2), '%')   # nan values/all values\n"
   ],
   "outputs": [],
   "metadata": {}
  },
  {
   "cell_type": "code",
   "execution_count": null,
   "source": [
    "fig = plt.hist(z_topo_filter[~np.isnan(z_topo_filter)], 100, edgecolor='k')\n",
    "plt.xlabel('Residuals (m)')\n",
    "\n"
   ],
   "outputs": [],
   "metadata": {}
  },
  {
   "cell_type": "code",
   "execution_count": null,
   "source": [
    "fig = plt.figure(figsize=(12,10))\n",
    "ax = plt.axes(projection=ccrs.SouthPolarStereo())\n",
    "imgShow(s3_img, extent=s3_img_info['geoextent'], color_bands=(0, 1, 2), clip_percent=5)\n",
    "plt.scatter(lon_topo_proj[::100], lat_topo_proj[::100], s=3, c=z_topo_filter[::100], \\\n",
    "                                    alpha=.7, cmap='coolwarm_r')\n",
    "plt.clim([-5,5])\n",
    "plt.colorbar(fraction=0.0320, pad=0.02, label='Elevation residual (m)')\n",
    "ax.coastlines('50m')\n"
   ],
   "outputs": [],
   "metadata": {}
  },
  {
   "cell_type": "code",
   "execution_count": null,
   "source": [
    "plt.figure(figsize=(12,4))\n",
    "xb, yb = binning_1d(t_topo, z_topo_filter, xmin=2019.2, xmax=2020.3, dx=0.125 / 12., window=0.25 / 12., median=True)[0:2]\n",
    "plt.plot(t_topo[::10], z_topo_filter[::10],'.',markersize=0.1)\n",
    "plt.plot(xb, yb, '-r', linewidth=3)\n",
    "plt.ylim([-4, 4])\n",
    "plt.xlim([2019.3, 2020.2])\n",
    "plt.ylabel('Elevation residual (m)')\n",
    "plt.xlabel('Time (yrs)')\n"
   ],
   "outputs": [],
   "metadata": {}
  },
  {
   "cell_type": "code",
   "execution_count": null,
   "source": [
    "p = np.polyfit(t_topo[~np.isnan(z_topo_filter)], z_topo_filter[~np.isnan(z_topo_filter)], deg=1)   \n",
    "print('Trend:',np.around(p[0],2),'(m/yr)')\n"
   ],
   "outputs": [],
   "metadata": {}
  },
  {
   "cell_type": "markdown",
   "source": [
    "## After Spatio-temporal interpolation (data_cube, interpolation by interpgaus3d.py)"
   ],
   "metadata": {}
  },
  {
   "cell_type": "code",
   "execution_count": null,
   "source": [
    "## obtain the groud truth value of the icesat2 points through interpolation from the groud truth points\n",
    "# Zmi = interp2d(Xm, Ym, Zm, Xi.ravel(), Yi.ravel(), order=0).reshape(Xi.shape)\n"
   ],
   "outputs": [],
   "metadata": {}
  },
  {
   "cell_type": "code",
   "execution_count": null,
   "source": [
    "with h5py.File('data/icesat2/land_ice_antarctic/preprocessed/pineisland_data_cube.h5','r') as f_c:\n",
    "    print(f_c.keys())\n",
    "    lon_cube_proj = f_c['X'][:]\n",
    "    lat_cube_proj = f_c['Y'][:]\n",
    "    ti_cube = f_c['time'][:]\n",
    "    zi_cube = f_c['Z_pred'][:]\n",
    "\n",
    "lon_cube, lat_cube = coor2coor('3031', '4326', lon_cube_proj, lat_cube_proj)\n"
   ],
   "outputs": [],
   "metadata": {}
  },
  {
   "cell_type": "code",
   "execution_count": null,
   "source": [
    "time_ind = 10\n",
    "fig = plt.figure(figsize=(9,10))\n",
    "ax = plt.axes(projection=ccrs.SouthPolarStereo())\n",
    "imgShow(s3_img, extent=s3_img_info['geoextent'], color_bands=(0, 1, 2), clip_percent=5)\n",
    "plt.pcolormesh(lon_cube_proj, lat_cube_proj, zi_cube[time_ind,::], cmap='coolwarm_r')\n",
    "ax.coastlines('50m')\n"
   ],
   "outputs": [],
   "metadata": {}
  },
  {
   "cell_type": "code",
   "execution_count": null,
   "source": [
    "zi_cube_mean = np.nanmean(np.nanmean(zi_cube, 1),1)  # along the temporal dimension\n"
   ],
   "outputs": [],
   "metadata": {}
  },
  {
   "cell_type": "code",
   "execution_count": null,
   "source": [
    "plt.figure(figsize=(12,4))\n",
    "plt.plot(ti_cube, zi_cube_mean,'r',linewidth=3, label='interpolated data')\n",
    "plt.plot(t_topo[::100], h_topo_res[::100], '.', markersize=0.3,linewidth=3) # spatial-temporal smooth\n",
    "\n",
    "p1 = np.polyfit(ti_cube[~np.isnan(zi_cube_mean)], zi_cube_mean[~np.isnan(zi_cube_mean)], 1) # spatial-temporal interploation\n",
    "p2 = np.polyfit(t_topo[~np.isnan(z_topo_filter)], z_topo_filter[~np.isnan(z_topo_filter)],1)  # spatial-temporal smooth\n",
    "plt.plot(ti_cube, np.polyval(p2, ti_cube),'k',label='interpolated data-fit')\n",
    "plt.legend()\n",
    "print('Interpolated data fitting:',np.around(p1[0],2))\n",
    "print('Smoothed data fitting:',np.around(p2[0],2))\n",
    "plt.xlim([2019.3, 2020.2])\n",
    "plt.ylim([-3,3])\n",
    "plt.xlabel('Time (yrs)')\n",
    "plt.ylabel('Elevation residuals (m)')\n",
    "\n"
   ],
   "outputs": [],
   "metadata": {}
  },
  {
   "cell_type": "code",
   "execution_count": null,
   "source": [
    "plt.figure(figsize=(12,4))\n",
    "plt.plot(ti_cube, zi_cube_mean - zi_cube_mean[0],'r',linewidth=2)\n",
    "plt.ylabel('Elevation Change (m)')\n",
    "plt.xlabel('Time (yrs)')\n",
    "plt.grid()\n"
   ],
   "outputs": [],
   "metadata": {}
  },
  {
   "cell_type": "code",
   "execution_count": null,
   "source": [
    "nt,nx,ny = zi_cube.shape\n",
    "zi_cube_fit_slope = np.zeros((nx,ny))*np.nan\n",
    "for i in range(nx):\n",
    "    for j in range(ny):\n",
    "        dh = zi_cube[:,i,j]\n",
    "        if np.any(np.isnan(dh)):continue\n",
    "        zi_cube_fit_slope[i,j] = np.polyfit(ti_cube, zi_cube[:,i,j], 1)[0]\n"
   ],
   "outputs": [],
   "metadata": {}
  },
  {
   "cell_type": "code",
   "execution_count": null,
   "source": [
    "zi_cube_slope_smooth = generic_filter(zi_cube_fit_slope.copy(), np.nanmean, 3)\n",
    "# zi_cube_slope_smooth[Zmi == 0] = np.nan\n",
    "\n"
   ],
   "outputs": [],
   "metadata": {}
  },
  {
   "cell_type": "code",
   "execution_count": null,
   "source": [
    "fig = plt.figure(figsize=(12,10))\n",
    "ax = plt.axes(projection=ccrs.SouthPolarStereo())\n",
    "imgShow(s3_img, extent=s3_img_info['geoextent'], color_bands=(0, 1, 2), clip_percent=5)\n",
    "im = plt.pcolormesh(lon_cube_proj, lat_cube_proj, zi_cube_slope_smooth, cmap='coolwarm_r',vmin=-1.5, vmax=0.5)\n",
    "ax.coastlines('50m')\n",
    "plt.colorbar(label='Elevation Change speed (m/yr)')\n",
    "print('Trend:',np.around(np.nanmean(zi_cube_slope_smooth),2),'(m/yr)')\n"
   ],
   "outputs": [],
   "metadata": {}
  },
  {
   "cell_type": "code",
   "execution_count": null,
   "source": [
    "dVdt = np.nansum(zi_cube_slope_smooth)*2e3*2e3*1e-9   # 2e3 corresponding to the dx and dy (spatial size of one grid).\n",
    "print('Volume Change:', np.around(dVdt,1),'(km3/yr)')\n",
    "\n"
   ],
   "outputs": [],
   "metadata": {}
  },
  {
   "cell_type": "markdown",
   "source": [
    "## Constructing a digital elevation model\n",
    "From fittopo.py we also have the mean surface height from all our solutions and which are now referenced to the same common time 2020. So, let’s go through a few steps to show how we can obtain a DEM in a relatively easy manner."
   ],
   "metadata": {}
  },
  {
   "cell_type": "code",
   "execution_count": null,
   "source": [
    "h_topo_fit_copy = h_topo_fit.copy()\n"
   ],
   "outputs": [],
   "metadata": {}
  },
  {
   "cell_type": "code",
   "execution_count": null,
   "source": [
    "fig = plt.figure(figsize=(12,10))\n",
    "ax = plt.axes(projection=ccrs.SouthPolarStereo())\n",
    "imgShow(s3_img, extent=s3_img_info['geoextent'], color_bands=(0, 1, 2), clip_percent=5)\n",
    "plt.scatter(lon_topo_proj[::100], lat_topo_proj[::100], s=3, c=h_topo_fit_copy[::100], \\\n",
    "                                alpha=.7, cmap='terrain')\n",
    "plt.clim([0,1500])\n",
    "plt.colorbar(fraction=0.0320, pad=0.02, label='Elevation (m)')\n",
    "ax.coastlines('50m')\n"
   ],
   "outputs": [],
   "metadata": {}
  },
  {
   "cell_type": "code",
   "execution_count": null,
   "source": [
    "h_topo_fit_copy[np.isnan(z_topo_filter)] = np.nan\n",
    "\n"
   ],
   "outputs": [],
   "metadata": {}
  },
  {
   "cell_type": "code",
   "execution_count": null,
   "source": [
    "fig = plt.figure(figsize=(12,10))\n",
    "ax = plt.axes(projection=ccrs.SouthPolarStereo())\n",
    "imgShow(s3_img, extent=s3_img_info['geoextent'], color_bands=(0, 1, 2), clip_percent=5)\n",
    "plt.scatter(lon_topo_proj[::100], lat_topo_proj[::100], s=3, c=h_topo_fit_copy[::100], \\\n",
    "                            alpha=.7, cmap='terrain')\n",
    "plt.clim([0,1500])\n",
    "plt.colorbar(fraction=0.0320, pad=0.02, label='Elevation (m)')\n",
    "ax.coastlines('50m')\n",
    "\n"
   ],
   "outputs": [],
   "metadata": {}
  },
  {
   "cell_type": "code",
   "execution_count": null,
   "source": [
    "# Zm_i = interp2d(Xm, Ym, Zm, Xdem.ravel(), Ydem.ravel(), order=1).reshape(Xdem.shape)    \n"
   ],
   "outputs": [],
   "metadata": {}
  },
  {
   "cell_type": "code",
   "execution_count": null,
   "source": [
    "# from utils import interpkrig, interpmed, interpgaus\n",
    "# i_nan = ~np.isnan(h_h)\n"
   ],
   "outputs": [],
   "metadata": {}
  },
  {
   "cell_type": "markdown",
   "source": [
    "## Some common interpolation algorithm\n",
    "\n",
    "**Kriging/Collocation (interpkrig):**   \n",
    "Least-Squares Collocation (LSC), mostly known as Kriging, is a geostatistical method of spatial interpolation modeled by a gaussian process governed by the data covariance. In general the LSC method is better at preserving spatial detail and variability than other simpler distance-based interpolation methods, if the spatial auto-correlation of the data is substantial. LSC, also generates estimates of uncertainty for each prediction and also allows for error-propagation via the covariance structure.  \n",
    "**Gaussian Weighed Average (interpgaus):**   \n",
    "One of the most common interpolation approaches to interpolate irregular scattered data onto a regular grid using a weighted average, with a gaussian weighing function based on distance away from the prediction point. This interpolation approach provides a smooth continuous surface constrained by the range of the data. However, the weighted average is sensitive to large outliers and the data distribution, the same as for the median.   \n",
    "**Median (interpmed):**  \n",
    " Using the median for spatial interpolation has some advantages, as it is less sensitive to outliers in the data, and thus provide very clean and nice-looking grids. However, for producing volume change estimates for large regions (continental) it is less useful. This is because, as we could see in the histogram, we usually have a negative skewed distributions of elevation change. Thus, using the median we will estimates value will be biased in the positive direction. Further, the usage of the median does not allow us to incorporate far-field data, as no weighting for distance is possible."
   ],
   "metadata": {}
  },
  {
   "cell_type": "code",
   "execution_count": null,
   "source": [
    "## _TOPO \n",
    "Xdem_TOPO, Ydem_TOPO = make_grid(lon_topo_proj.min(), lon_topo_proj.max(), \\\n",
    "                                            lat_topo_proj.min(), lat_topo_proj.max(), 1e3, 1e3)\n"
   ],
   "outputs": [],
   "metadata": {}
  },
  {
   "cell_type": "code",
   "execution_count": null,
   "source": [
    "### --------- interpolation on the smoothed data (_TOPO).\n",
    "### --------- we also can interplate on the original data directively.\n",
    "not_nan = ~np.isnan(h_topo_fit_copy)\n",
    "z_dem_TOPO_interp = interpgaus(lon_topo_proj[not_nan][::100], lat_topo_proj[not_nan][::100], h_topo_fit_copy[not_nan][::100].copy(),\\\n",
    "                        np.ones(h_topo_fit_copy[not_nan][::100].shape)*1, Xdem_TOPO, Ydem_TOPO, n=20, d_max=20e3, a=5e3)[0]\n",
    "# z_dem_TOPO_interp = interpmed(lon_TOPO_proj[not_nan][::100], lat_TOPO_proj[not_nan][::100], h_TOPO_mod_copy[not_nan][::100].copy(), \\\n",
    "#                             Xdem_TOPO, Ydem_TOPO, n=20, d_max=20e3)\n",
    "# z_dem_TOPO_interp = interpkrig(lon_TOPO_proj[not_nan][::100], lat_TOPO_proj[not_nan][::100], h_TOPO_mod_copy[not_nan][::100].copy(), \\\n",
    "#                             np.ones(h_TOPO_mod_copy[not_nan][::100].shape)*1, Xdem_TOPO, Ydem_TOPO, n=20, d_max=20e3, a=5e3)[0]\n",
    "\n"
   ],
   "outputs": [],
   "metadata": {}
  },
  {
   "cell_type": "code",
   "execution_count": null,
   "source": [
    "Z_dem_TOPO_interp = z_dem_TOPO_interp.reshape(Xdem_TOPO.shape)\n",
    "\n"
   ],
   "outputs": [],
   "metadata": {}
  },
  {
   "cell_type": "code",
   "execution_count": null,
   "source": [
    "# Z_dem_mergeAD[Zm_i == 0] = np.nan\n"
   ],
   "outputs": [],
   "metadata": {}
  },
  {
   "cell_type": "code",
   "execution_count": null,
   "source": [
    "fig = plt.figure(figsize=(12,10))\n",
    "plt.imshow(np.flipud(Z_dem_TOPO_interp), cmap='terrain', vmin=0, vmax=1400)\n",
    "\n"
   ],
   "outputs": [],
   "metadata": {}
  },
  {
   "cell_type": "code",
   "execution_count": null,
   "source": [
    "# !python utils/xover.py -h\n"
   ],
   "outputs": [],
   "metadata": {}
  },
  {
   "cell_type": "code",
   "execution_count": null,
   "source": [
    "# !python utils/xover.py data/icesat2/land_ice_antarctic/preprocessed/pineisland_atl06_A_merge.h5 data/icesat2/land_ice_antarctic/preprocessed/pineisland_atl06_D_merge.h5 -o data/icesat2/land_ice_antarctic/preprocessed/pineisland_xovers.h5 -r 100 -p 3031 -d 10 -k 20 20 -m linear -v orbit lon lat t_year h_elv dum dum dum\n"
   ],
   "outputs": [],
   "metadata": {}
  },
  {
   "cell_type": "code",
   "execution_count": null,
   "source": [
    "# !h5ls data/icesat2/land_ice_antarctic/preprocessed/pineisland_xovers.h5\n"
   ],
   "outputs": [],
   "metadata": {}
  },
  {
   "cell_type": "code",
   "execution_count": null,
   "source": [
    "with h5py.File('data/icesat2/land_ice_antarctic/preprocessed/pineisland_xovers.h5','r') as f_xo:\n",
    "    lon_xovers = f_xo['lon'][:]\n",
    "    lat_xovers = f_xo['lat'][:]\n",
    "    dh_xovers = f_xo['dh_elv'][:]\n",
    "    dt_xovers = f_xo['dt_year'][:]\n",
    "    dhdt_xovers = f_xo['dhdt'][:]\n",
    "    print(f_xo.keys())\n",
    "\n",
    "lon_xovers_proj, lat_xovers_proj = coor2coor('4326', '3031', lon_xovers, lat_xovers)\n",
    "    "
   ],
   "outputs": [],
   "metadata": {}
  },
  {
   "cell_type": "code",
   "execution_count": null,
   "source": [
    "fig = plt.figure(figsize=(12,10))\n",
    "ax = plt.axes(projection=ccrs.SouthPolarStereo())\n",
    "ids = np.abs(dt_xovers)>3./12\n",
    "imgShow(s3_img, extent=s3_img_info['geoextent'], color_bands=(0, 1, 2), clip_percent=5)\n",
    "plt.scatter(lon_xovers_proj[ids], lat_xovers_proj[ids], s=10, c=dh_xovers[ids]/dt_xovers[ids], \\\n",
    "                            alpha=.7, cmap='coolwarm_r')\n",
    "plt.clim([-1.,1.])\n",
    "plt.colorbar(fraction=0.0320, pad=0.02, label='Elevation Change (m/yr)')\n",
    "ax.coastlines('50m')\n"
   ],
   "outputs": [],
   "metadata": {}
  },
  {
   "cell_type": "code",
   "execution_count": null,
   "source": [
    "# x_xovers, y_xovers = coor2coor('4326','3031',lon_xovers, lat_xovers)\n"
   ],
   "outputs": [],
   "metadata": {}
  },
  {
   "cell_type": "code",
   "execution_count": null,
   "source": [
    "plt.plot(dt_xovers, dh_xovers, '.', markersize=2)\n",
    "plt.ylabel('dh_xovers')\n",
    "plt.xlabel('dt_xovers')\n"
   ],
   "outputs": [],
   "metadata": {}
  },
  {
   "cell_type": "code",
   "execution_count": null,
   "source": [
    "plt.figure(figsize=(10,6))\n",
    "idx = np.abs(dh_xovers)<5\n",
    "plt.plot(dt_xovers[idx], dh_xovers[idx],'.', markersize=2)\n",
    "c_fit = np.polyfit(dt_xovers[idx], dh_xovers[idx], 1)\n",
    "plt.plot(dt_xovers[idx], np.polyval(c_fit, dt_xovers[idx]), 'r')\n",
    "plt.ylabel('dh (m)')\n",
    "plt.xlabel('dt (yrs)')\n",
    "print('Trend:', np.around(c_fit[0], 2),'(m/yr)')\n"
   ],
   "outputs": [],
   "metadata": {}
  },
  {
   "cell_type": "code",
   "execution_count": null,
   "source": [
    "idx = (np.abs(dh_xovers) < 2) & (np.abs(dt_xovers) < 1./12)\n",
    "x_thre, y_thre, dt_thre, dh_thre = lon_xovers_proj[idx], lat_xovers_proj[idx], dt_xovers[idx], dh_xovers[idx]\n",
    "fig = plt.hist(dh_thre[np.abs(dh_thre) < 1.5], 100, edgecolor='k')\n",
    "plt.xlabel('dh less than 30 days (m)')\n",
    "plt.ylabel('Frequency')\n",
    "print('dh_1month:',np.around(np.nanmedian(dh_thre)*100, 2), 'cm')\n",
    "print('Error:',np.around(mad_std(dh_thre)*100, 2), 'cm')\n"
   ],
   "outputs": [],
   "metadata": {}
  },
  {
   "cell_type": "code",
   "execution_count": null,
   "source": [
    "\n"
   ],
   "outputs": [],
   "metadata": {}
  }
 ],
 "metadata": {
  "interpreter": {
   "hash": "9fcd11040269ff8a468a26bab548888089e1e15f5655977e7680097ba56865af"
  },
  "kernelspec": {
   "name": "python3",
   "display_name": "Python 3.6.13 64-bit ('venv': conda)"
  },
  "language_info": {
   "codemirror_mode": {
    "name": "ipython",
    "version": 3
   },
   "file_extension": ".py",
   "mimetype": "text/x-python",
   "name": "python",
   "nbconvert_exporter": "python",
   "pygments_lexer": "ipython3",
   "version": "3.6.13"
  },
  "orig_nbformat": 2
 },
 "nbformat": 4,
 "nbformat_minor": 2
}