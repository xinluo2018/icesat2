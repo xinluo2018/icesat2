{
 "cells": [
  {
   "cell_type": "code",
   "execution_count": 5,
   "source": [
    "import os\n",
    "os.chdir('..')\n",
    "import h5py\n",
    "\n"
   ],
   "outputs": [],
   "metadata": {}
  },
  {
   "cell_type": "code",
   "execution_count": 18,
   "source": [
    "!h5ls data/icesat2/glacier_tibet/processed_ATL06_20190603112341_10110306_004_01.h5/gt1l/land_ice_segments\n",
    "\n"
   ],
   "outputs": [
    {
     "output_type": "stream",
     "name": "stdout",
     "text": [
      "atl06_quality_summary    Dataset {328/Inf}\n",
      "bias_correction          Group\n",
      "delta_time               Dataset {328/Inf}\n",
      "dem                      Group\n",
      "fit_statistics           Group\n",
      "geophysical              Group\n",
      "ground_track             Group\n",
      "h_li                     Dataset {328/Inf}\n",
      "h_li_sigma               Dataset {328/Inf}\n",
      "latitude                 Dataset {328/Inf}\n",
      "longitude                Dataset {328/Inf}\n",
      "segment_id               Dataset {328/Inf}\n",
      "sigma_geo_h              Dataset {328/Inf}\n"
     ]
    }
   ],
   "metadata": {}
  },
  {
   "cell_type": "code",
   "execution_count": 23,
   "source": [
    "with h5py.File('data/icesat2/glacier_tibet/processed_ATL06_20190603112341_10110306_004_01.h5','r') as f_a:\n",
    "    print(f_a.keys())\n",
    "    lat_merge_ad   = f_a['gt1l']['land_ice_segments']['h_li'][:]\n",
    "    # lon_merge_ad   = f_a['lon'][:]\n",
    "    # h_elv_merge_ad = f_a['h_elv'][:]\n",
    "    # t_yrs_merge_ad = f_a['t_year'][:]"
   ],
   "outputs": [
    {
     "output_type": "stream",
     "name": "stdout",
     "text": [
      "<KeysViewHDF5 ['METADATA', 'ancillary_data', 'gt1l', 'gt1r', 'gt2l', 'gt2r', 'gt3l', 'gt3r', 'orbit_info', 'quality_assessment']>\n"
     ]
    }
   ],
   "metadata": {}
  },
  {
   "cell_type": "code",
   "execution_count": null,
   "source": [
    "\n",
    "\n",
    "\n"
   ],
   "outputs": [],
   "metadata": {}
  }
 ],
 "metadata": {
  "orig_nbformat": 4,
  "language_info": {
   "name": "python",
   "version": "3.6.13",
   "mimetype": "text/x-python",
   "codemirror_mode": {
    "name": "ipython",
    "version": 3
   },
   "pygments_lexer": "ipython3",
   "nbconvert_exporter": "python",
   "file_extension": ".py"
  },
  "kernelspec": {
   "name": "python3",
   "display_name": "Python 3.6.13 64-bit ('venv': conda)"
  },
  "interpreter": {
   "hash": "9fcd11040269ff8a468a26bab548888089e1e15f5655977e7680097ba56865af"
  }
 },
 "nbformat": 4,
 "nbformat_minor": 2
}