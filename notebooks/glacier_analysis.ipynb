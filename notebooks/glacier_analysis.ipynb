{
 "cells": [
  {
   "cell_type": "markdown",
   "metadata": {},
   "source": [
    "### Land ice analysis requires ATL03 and ATL06 data"
   ]
  },
  {
   "cell_type": "code",
   "execution_count": null,
   "metadata": {},
   "outputs": [],
   "source": [
    "import os\n",
    "os.chdir('..')\n",
    "from notebooks import config\n",
    "import glob\n",
    "import os\n",
    "import numpy as np\n",
    "import matplotlib.pyplot as plt\n",
    "import pyproj\n",
    "import icepyx as ipx\n",
    "import geopandas as gpd\n",
    "import pointCollection as pc\n",
    "from utils.imgShow import imgShow\n",
    "from utils.geotif_io import readTiff\n",
    "from utils.read_HDF5_ATL03 import read_HDF5_ATL03\n",
    "from utils.get_ATL03_x_atc import get_ATL03_x_atc\n",
    "from utils.mutliple_is2_requests import multiple_is2_requests\n",
    "from utils.atl06beam_to_dict import atl06beam_to_dict\n"
   ]
  },
  {
   "cell_type": "code",
   "execution_count": null,
   "metadata": {},
   "outputs": [],
   "source": [
    "path_img = config.root + '/data/rs_img/kunlun_S3A_20191225T045036_20191225T045336.tif'\n"
   ]
  },
  {
   "cell_type": "code",
   "execution_count": null,
   "metadata": {},
   "outputs": [],
   "source": [
    "## read remote sensing image\n",
    "s3_img, s3_img_info = readTiff(path_img)\n",
    "# s3_extent = rio.plot.plotting_extent(s3_img_src)\n",
    "# s3_img_src.crs\n",
    "## read alt03 data\n",
    "rgt = \"0081\"\n",
    "cycle = \"06\"\n",
    "beam = 'gt2l'\n",
    "# read the atl03 data with Tyler's ATL03 reader:\n",
    "atl03_file=glob.glob(os.path.join(config.root, f'data/icesat2/atl03_06_demo/processed_ATL03_*{rgt}{cycle}*.h5'))[0]\n",
    "atl03_mds, atl03_attrs, atl03_beams =read_HDF5_ATL03(atl03_file, VERBOSE=True)\n",
    "atl03_beam = atl03_mds[beam]\n",
    "get_ATL03_x_atc(atl03_mds, atl03_attrs, atl03_beams)\n",
    "atl03_x, atl03_y = np.array(pyproj.Proj(32644)(atl03_beam['heights']['lon_ph'], atl03_beam['heights']['lat_ph']))\n",
    "\n",
    "### read atl06 data\n",
    "atl06_file=glob.glob(os.path.join(config.root, f'data/icesat2/atl03_06_demo/processed_ATL06*{rgt}{cycle}*.h5'))[0]\n",
    "atl06_beam=atl06beam_to_dict(atl06_file, beam, index=None, epsg=32644)"
   ]
  },
  {
   "cell_type": "code",
   "execution_count": null,
   "metadata": {},
   "outputs": [],
   "source": []
  },
  {
   "cell_type": "code",
   "execution_count": null,
   "metadata": {},
   "outputs": [],
   "source": [
    "plt.figure()\n",
    "imgShow(s3_img, extent=s3_img_info['extent'], color_bands=(0, 1, 2), clip_percent=5)\n",
    "plt.plot(atl03_x, atl03_y, color='r')\n",
    "plt.title('Mosaic of tibet for Kun Lun mountain')\n"
   ]
  },
  {
   "cell_type": "code",
   "execution_count": null,
   "metadata": {},
   "outputs": [],
   "source": [
    "fig=plt.figure(figsize=(10,8))\n",
    "## fig.1: atl03 photon heights\n",
    "ax1 = fig.add_subplot(221)\n",
    "ax1.plot(atl03_beam['heights']['x_atc'], atl03_beam['heights']['h_ph'],'k.',markersize=0.25, label='all photons') \n",
    "h_leg=ax1.legend()\n",
    "ax1.set_xlabel('x_atc, m')\n",
    "ax1.set_ylabel('h, m')\n",
    "# ax.set_xlim([3950000, 4000000])\n",
    "# ax.set_ylim([4000, 6500])\n",
    "\n",
    "### fig.2: atl03 good-quality heights\n",
    "LMH=atl03_beam['heights']['signal_conf_ph'][:,3] >= 2 # good quality\n",
    "ax1.plot(atl03_beam['heights']['x_atc'][LMH], atl03_beam['heights']['h_ph'][LMH],'g.',markersize=0.5, label='flagged photons')\n",
    "ax1.legend()\n",
    "\n",
    "### fig.3: atl03 backgroud(noisy heights)\n",
    "ax2 = fig.add_subplot(222, sharex=ax1, sharey=ax1)\n",
    "BG=(atl03_beam['heights']['signal_conf_ph'][:,3] ==0) | (atl03_beam['heights']['signal_conf_ph'][:,3] ==1)          ## backgroud(noisy...)\n",
    "ax2.plot(atl03_beam['heights']['x_atc'][BG], atl03_beam['heights']['h_ph'][BG],'k.',markersize=0.25, label='Background')\n",
    "ax2.legend()\n",
    "### atl03 TEP points\n",
    "ax3 = fig.add_subplot(223, sharex=ax1, sharey=ax1)\n",
    "TEP=(atl03_beam['heights']['signal_conf_ph'][:,3] <-1)    ## \n",
    "ax3.plot(atl03_beam['heights']['x_atc'][TEP], atl03_beam['heights']['h_ph'][TEP],'b.',markersize=0.25, label='TEP')\n",
    "ax3.legend()\n",
    "### atl06 points\n",
    "ax4 = fig.add_subplot(224, sharex=ax1, sharey=ax1)\n",
    "ax4.plot(atl06_beam['x_atc'], atl06_beam['h_li'],'r.', markersize=0.25,label='ATL06')\n",
    "ax4.legend()\n",
    "\n",
    "plt.show()\n"
   ]
  },
  {
   "cell_type": "code",
   "execution_count": null,
   "metadata": {},
   "outputs": [],
   "source": [
    "\n",
    "fig=plt.figure(figsize=[10, 8])\n",
    "### fig.1: plot atl03 photon heights\n",
    "ax1=fig.add_subplot(221)\n",
    "plt.plot(atl03_beam['heights']['x_atc'], atl03_beam['heights']['h_ph'],'k.', markersize=0.5, label='atl03 photon heights')\n",
    "ax1.legend()\n",
    "plt.title('atl03 photon heights')\n",
    "\n",
    "### fig.2: plot the atl06 segment heights \n",
    "ax2 = fig.add_subplot(222, sharex=ax1, sharey=ax1)\n",
    "hl=plt.plot(atl06_beam['x_atc'], atl06_beam['h_li'], color='b', markersize=0.5, label='atl06 segment height')\n",
    "\n",
    "### fig.3: plot the atl06 segment quality -> ->good/bad\n",
    "good=atl06_beam['atl06_quality_summary']==0\n",
    "ax3 = fig.add_subplot(223, sharex=ax1, sharey=ax1)\n",
    "plt.plot(atl06_beam['x_atc'][~good], atl06_beam['h_li'][~good],'y.', label='atl06 bad segment (flag=1)', markersize=0.5)\n",
    "plt.plot(atl06_beam['x_atc'][good], atl06_beam['h_li'][good],'r.', label='atl06 good segment (flag=0)', markersize=0.5)\n",
    "ax3.legend()\n",
    "plt.title('atl06 segment heights')\n",
    "\n",
    "### fig.4: plot atl06 segments difference, less -> better.\n",
    "ax4 = fig.add_subplot(224, sharex=ax1, sharey=ax1)\n",
    "delta_h_seg = min_seg_difference(atl06_beam)\n",
    "cm=plt.scatter(atl06_beam['x_atc'], atl06_beam['h_li'], 4, c=delta_h_seg, vmin=0, vmax=1, cmap='autumn', zorder=3);\n",
    "\n",
    "plt.colorbar(cm, ax=[ax1, ax2, ax3, ax4], label='min_seg_difference, m')\n",
    "plt.title('atl06 min_seg_difference');\n"
   ]
  },
  {
   "cell_type": "markdown",
   "metadata": {},
   "source": [
    "### Comparison between 2 cycels\n"
   ]
  },
  {
   "cell_type": "code",
   "execution_count": null,
   "metadata": {},
   "outputs": [],
   "source": [
    "D_2l={}\n",
    "D_2r={}\n",
    "rgt = \"0325\"\n",
    "atl06_files = glob.glob(config.root + f'/data/icesat2/atl03_06(demo)/processed_ATL06_*_{rgt}*_004*.h5')\n",
    "map_fig=plt.figure(figsize=(8,4))\n",
    "ax=map_fig.add_subplot(111)\n",
    "# iterate over the repeat cycles\n",
    "for cycle in ['02','06']:\n",
    "    for filename in atl06_files:\n",
    "        try:\n",
    "            # read the left/right-beam data\n",
    "            D_2l[filename]=atl06beam_to_dict(filename,'/gt2l', index=None, epsg=32644)\n",
    "            D_2r[filename]=atl06beam_to_dict(filename,'/gt2r', index=None, epsg=32644)\n",
    "            # plot the locations in the previous plot\n",
    "        except Exception as e:\n",
    "            print(f'filename={filename}, exception={e}')\n",
    "\n",
    "for filename, Di in D_2l.items():\n",
    "    # Plot atl06 segments that have quality_summary==0 (good quality)\n",
    "    hl=plt.plot(Di['x_atc'][Di['atl06_quality_summary']==0], Di['h_li'][Di['atl06_quality_summary']==0], '.', markersize=2, label=f\"cycle={Di['cycle']}\")\n",
    "\n",
    "plt.legend()\n",
    "plt.xlabel('x_atc')\n",
    "plt.ylabel('elevation');\n"
   ]
  },
  {
   "cell_type": "code",
   "execution_count": null,
   "metadata": {},
   "outputs": [],
   "source": [
    "# specify the rgt here:\n",
    "# rgt = \"0325\"\n",
    "for cycle in ['02', '06']:\n",
    "    for filename in atl06_files:\n",
    "        try:\n",
    "            # read the left/right-beam data\n",
    "            D_2l[filename]=atl06beam_to_dict(filename,'/gt2l', index=None, epsg=32644)\n",
    "            D_2r[filename]=atl06beam_to_dict(filename,'/gt2r', index=None, epsg=32644)\n",
    "        except Exception as e:\n",
    "            print(f'filename={filename}, exception={e}')\n",
    "\n",
    "plt.figure(figsize=[8, 10])\n",
    "## rs image\n",
    "ax1=plt.subplot(311)\n",
    "imgShow(s3_img, extent=s3_img_info['extent'], color_bands=(0, 1, 2), clip_percent=5)\n",
    "ax2=plt.subplot(312)\n",
    "ax3=plt.subplot(313, sharex=ax2)\n",
    "for filename, Dl in D_2l.items():\n",
    "    Dr=D_2r[filename]\n",
    "    good_dl = Dl['atl06_quality_summary'] == 0\n",
    "    good_dr = Dr['atl06_quality_summary'] == 0\n",
    "    ## Dl plot\n",
    "    hl = ax2.plot(Dl['x_atc'][good_dl], Dl['h_li'][good_dl],'.', \\\n",
    "                            label=f\"cycle={Dl['cycle']}\", markersize=2)\n",
    "    ax1.plot(Dl['x'][::10], Dl['y'][::10], '.', color=hl[0]._color, markersize=2)\n",
    "    ## Dr plot\n",
    "    ax2.plot(Dr['x_atc'][good_dr], Dr['h_li'][good_dr], '+', \\\n",
    "                    label=f\"cycle={Dr['cycle']}\", color=hl[0]._color, markersize=2)\n",
    "    ax1.plot(Dr['x'][::10], Dr['y'][::10], '+', color=hl[0]._color, markersize=2)\n",
    "    ax3.plot(Dr['x_atc'][::10], Dr['y_atc'][::10],'.', \\\n",
    "                                        color=hl[0]._color, markersize=2)\n",
    "    ## Dl plot\n",
    "    ax3.plot(Dl['x_atc'][::10], Dl['y_atc'][::10],'+', \\\n",
    "                                        color=hl[0]._color,markersize=2)\n",
    "\n",
    "for ax in [ax2, ax3]:\n",
    "    ax.legend()\n",
    "    ax.set_xlabel('x_atc')\n",
    "ax2.set_ylabel('elevation')\n",
    "ax3.set_ylabel('y_atc')\n"
   ]
  },
  {
   "cell_type": "markdown",
   "metadata": {},
   "source": [
    "### Correction of the repeat elevations for cross-track slope\n",
    "### !!! lager errors after correction???\n"
   ]
  },
  {
   "cell_type": "code",
   "execution_count": null,
   "metadata": {},
   "outputs": [],
   "source": [
    "fig=plt.figure(figsize=(8,8))\n",
    "ax1=fig.add_subplot(211)\n",
    "ax2=fig.add_subplot(212, sharex=ax1, sharey=ax1)\n",
    "color_dict={}\n",
    "for filename, Dl in D_2l.items():\n",
    "    Dr=D_2r[filename]\n",
    "    good_dl=Dl['atl06_quality_summary']==0\n",
    "    good_dr=Dr['atl06_quality_summary']==0\n",
    "    hl=ax1.plot(Dl['x_atc'][good_dl], Dl['h_li'][good_dl],'.', markersize=3, label=f\"cycle={Dl['cycle']}\")\n",
    "    # save the color for this cycle so we can use it again\n",
    "    color_dict[int(Dl['cycle'])]=hl[0]._color\n",
    "    # for Dl correction, !!may not suitable for moutainous region\n",
    "    atc_corr_dl = Dl['y_atc']*Dl['dh_fit_dy']\n",
    "    Dl_h_correct = Dl['h_li']-atc_corr_dl   # corrected Dl heights\n",
    "    ax2.plot(Dl['x_atc'][good_dl], Dl_h_correct[good_dl], '.', markersize=3, color=color_dict[int(Dl['cycle'])])\n",
    "    ax1.plot(Dr['x_atc'][good_dr], Dr['h_li'][good_dr], '+', markersize=4, color=color_dict[int(Dl['cycle'])])\n",
    "   # for Dl correction, !!may not suitable for moutainous region\n",
    "    atc_corr_dr = Dr['y_atc']*Dr['dh_fit_dy']   # for Dr correction\n",
    "    Dr_h_correct = Dr['h_li']-atc_corr_dr   # corrected Dr heights\n",
    "    ax2.plot(Dr['x_atc'][good_dr], Dr_h_correct[good_dr], '+', markersize=4, color=color_dict[int(Dl['cycle'])])\n",
    " \n",
    "ax1.legend()\n",
    "ax1.set_title('Before correction')\n",
    "ax2.set_title('After correction')\n"
   ]
  },
  {
   "cell_type": "code",
   "execution_count": null,
   "metadata": {},
   "outputs": [],
   "source": [
    "\n",
    "\n"
   ]
  }
 ],
 "metadata": {
  "interpreter": {
   "hash": "9fcd11040269ff8a468a26bab548888089e1e15f5655977e7680097ba56865af"
  },
  "kernelspec": {
   "display_name": "Python 3.6.13 64-bit ('venv': conda)",
   "name": "python3"
  },
  "language_info": {
   "name": "python",
   "version": ""
  },
  "orig_nbformat": 2
 },
 "nbformat": 4,
 "nbformat_minor": 2
}